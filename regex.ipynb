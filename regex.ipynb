{
  "cells": [
    {
      "cell_type": "markdown",
      "metadata": {
        "id": "TsR35hiuZhI5"
      },
      "source": [
        "# Exercise: Regular Expressions"
      ]
    },
    {
      "cell_type": "code",
      "execution_count": 2,
      "metadata": {
        "id": "Z9WputyJZhI7"
      },
      "outputs": [],
      "source": [
        "import re"
      ]
    },
    {
      "cell_type": "code",
      "execution_count": null,
      "metadata": {
        "id": "j9S29HloZhI9",
        "outputId": "7b67d0d1-01b0-49cf-a491-996cc34495f1"
      },
      "outputs": [
        {
          "name": "stdout",
          "output_type": "stream",
          "text": [
            "Username: john\n",
            "Mailserver: email\n",
            "Domain: com\n",
            "\n",
            "Username: mary\n",
            "Mailserver: otherplace\n",
            "Domain: net\n",
            "\n",
            "Username: support\n",
            "Mailserver: ourcompany\n",
            "Domain: co\n",
            "\n"
          ]
        }
      ],
      "source": [
        "#1 Question: Match all email addresses (SOLVED)\n",
        "\n",
        "inputs = [\"My email is john@email.com and mary@otherplace.net\",\n",
        "          \"Visit us at support@ourcompany.co.uk for help\",\n",
        "          \"No emails here\"]\n",
        "\n",
        "pattern = r\"(\\w+)@(\\w+)\\.(\\w+)\"\n",
        "\n",
        "matches = []\n",
        "for input in inputs:\n",
        "    matches += re.findall(pattern, input)\n",
        "\n",
        "for m in matches:\n",
        "    username = m[0]\n",
        "    mailserver = m[1]\n",
        "    domain = m[2]\n",
        "    print(f\"Username: {username}\")\n",
        "    print(f\"Mailserver: {mailserver}\")\n",
        "    print(f\"Domain: {domain}\")\n",
        "    print('')"
      ]
    },
    {
      "cell_type": "code",
      "execution_count": 11,
      "metadata": {
        "colab": {
          "base_uri": "https://localhost:8080/"
        },
        "id": "z1Y6HF65ZhI_",
        "outputId": "3e1ff2bd-0f78-4e31-f706-9b439b198a9f"
      },
      "outputs": [
        {
          "output_type": "stream",
          "name": "stdout",
          "text": [
            "email.com\n",
            "gmail.com\n",
            "ourcompany.co.uk\n"
          ]
        }
      ],
      "source": [
        "#2 Question: Extract domain from email\n",
        "\n",
        "inputs = [\"john@email.com\", \"mary+newsletter@gmail.com\", \"support@ourcompany.co.uk\"]\n",
        "\n",
        "for email in inputs:\n",
        "    match = re.search(r\"@([\\w.-]+)\", email)\n",
        "    if match:\n",
        "        domain = match.group(1)\n",
        "        print(domain)"
      ]
    },
    {
      "cell_type": "code",
      "execution_count": 12,
      "metadata": {
        "colab": {
          "base_uri": "https://localhost:8080/"
        },
        "id": "SY52pQ4sZhJA",
        "outputId": "7c594601-e0d3-4839-a25e-8e6232e077a0"
      },
      "outputs": [
        {
          "output_type": "stream",
          "name": "stdout",
          "text": [
            "555-123-4567 is a valid phone number.\n",
            "1 (234) 567-8910 is not a valid phone number.\n",
            "notaphonenumber is not a valid phone number.\n"
          ]
        }
      ],
      "source": [
        "#3 Question: Validate phone number\n",
        "\n",
        "inputs = [\"555-123-4567\",  \"1 (234) 567-8910\", \"notaphonenumber\"]\n",
        "\n",
        "for phone_number in inputs:\n",
        "    match = re.match(r\"^\\d{3}-\\d{3}-\\d{4}$\", phone_number)\n",
        "\n",
        "    if match:\n",
        "        print(f\"{phone_number} is a valid phone number.\")\n",
        "    else:\n",
        "        print(f\"{phone_number} is not a valid phone number.\")"
      ]
    },
    {
      "cell_type": "code",
      "execution_count": 13,
      "metadata": {
        "colab": {
          "base_uri": "https://localhost:8080/"
        },
        "id": "_jGFGRUWZhJB",
        "outputId": "86a2c9f2-96cc-4303-b449-8e0a4d80004f"
      },
      "outputs": [
        {
          "output_type": "stream",
          "name": "stdout",
          "text": [
            "The area code in (555) 123-4567 is 555.\n",
            "The area code in 1 (234) 567-8910 is 234.\n",
            "The area code in 5551234567 is None.\n"
          ]
        }
      ],
      "source": [
        "#4 Question: Extract area code\n",
        "\n",
        "inputs = [\"(555) 123-4567\", \"1 (234) 567-8910\", \"5551234567\"]\n",
        "\n",
        "for phone_number in inputs:\n",
        "    match = re.search(r\"\\((\\d{3})\\)|^\\d{3}\", phone_number)\n",
        "    if match:\n",
        "        area_code = match.group(1)\n",
        "        print(f\"The area code in {phone_number} is {area_code}.\")\n",
        "    else:\n",
        "        print(f\"No area code found in {phone_number}.\")"
      ]
    },
    {
      "cell_type": "code",
      "execution_count": 14,
      "metadata": {
        "colab": {
          "base_uri": "https://localhost:8080/"
        },
        "id": "tkAYskkIZhJC",
        "outputId": "a8f1f918-07e7-4823-d718-3334a5168adb"
      },
      "outputs": [
        {
          "output_type": "stream",
          "name": "stdout",
          "text": [
            "The host in \"Visit https://www.example.com for more info\" is com.\n",
            "No URLs found in \"Our website is example.com\".\n",
            "No URLs found in \"No URLs here\".\n"
          ]
        }
      ],
      "source": [
        "#5 Question: Match URLs and extract host\n",
        "\n",
        "inputs = [\"Visit https://www.example.com for more info\", \"Our website is example.com\", \"No URLs here\"]\n",
        "\n",
        "for text in inputs:\n",
        "    matches = re.findall(r\"https?://([^\\s/?\\.]+\\.?)+(/[^\\s]*)?\", text)\n",
        "    if matches:\n",
        "        for match in matches:\n",
        "            host = match[0]\n",
        "            print(f\"The host in \\\"{text}\\\" is {host}.\")\n",
        "    else:\n",
        "        print(f\"No URLs found in \\\"{text}\\\".\")"
      ]
    },
    {
      "cell_type": "code",
      "execution_count": 15,
      "metadata": {
        "colab": {
          "base_uri": "https://localhost:8080/"
        },
        "id": "3Lr7RfpqZhJD",
        "outputId": "687ec5e6-90d0-430e-b6dc-87614d53ea7f"
      },
      "outputs": [
        {
          "output_type": "stream",
          "name": "stdout",
          "text": [
            "The cleaned text of \"Hello world!\" is \"Helloworld\".\n",
            "The cleaned text of \"123 Main St.\" is \"MainSt\".\n",
            "The cleaned text of \"greetings&more\" is \"greetingsmore\".\n"
          ]
        }
      ],
      "source": [
        "#6 Question: Remove non-alphabetic characters\n",
        "\n",
        "inputs = [\"Hello world!\", \"123 Main St.\", \"greetings&more\"]\n",
        "\n",
        "for text in inputs:\n",
        "    cleaned_text = re.sub(r\"[^a-zA-Z]+\", \"\", text)\n",
        "    print(f\"The cleaned text of \\\"{text}\\\" is \\\"{cleaned_text}\\\".\")"
      ]
    },
    {
      "cell_type": "code",
      "execution_count": 16,
      "metadata": {
        "colab": {
          "base_uri": "https://localhost:8080/"
        },
        "id": "8ciM6qgkZhJE",
        "outputId": "95c5715c-fd64-4363-cb4b-fae0327b2d5f"
      },
      "outputs": [
        {
          "output_type": "stream",
          "name": "stdout",
          "text": [
            "The words containing 'tion' in \"This is a test sentence with the word station in it.\" are: station.\n",
            "The words containing 'tion' in \"No words containing tion here\" are: tion.\n",
            "The words containing 'tion' in \"motion activation vacation\" are: motion, activation, vacation.\n"
          ]
        }
      ],
      "source": [
        "#7 Question: Find words containing \"tion\"\n",
        "\n",
        "inputs = [\"This is a test sentence with the word station in it.\", \"No words containing tion here\", \"motion activation vacation\"]\n",
        "\n",
        "for text in inputs:\n",
        "    matches = re.findall(r\"\\b\\w*tion\\w*\\b\", text)\n",
        "    if matches:\n",
        "        print(f\"The words containing 'tion' in \\\"{text}\\\" are: {', '.join(matches)}.\")\n",
        "    else:\n",
        "        print(f\"No words containing 'tion' found in \\\"{text}\\\".\")"
      ]
    },
    {
      "cell_type": "code",
      "execution_count": 17,
      "metadata": {
        "colab": {
          "base_uri": "https://localhost:8080/"
        },
        "id": "Hh7pbOXkZhJF",
        "outputId": "8851a713-8824-4cfe-a1ae-ac03846b4e48"
      },
      "outputs": [
        {
          "output_type": "stream",
          "name": "stdout",
          "text": [
            "The replaced text: \"goodbye world\".\n",
            "The replaced text: \"goodbye there\".\n",
            "The replaced text: \"no match\".\n"
          ]
        }
      ],
      "source": [
        "#8 Question: Replace all occurrences of \"hello\" with \"goodbye\"\n",
        "\n",
        "inputs = [\"hello world\", \"hello there\", \"no match\"]\n",
        "\n",
        "pattern = r\"\\bhello\\b\"\n",
        "\n",
        "for text in inputs:\n",
        "    replaced_text = re.sub(pattern, \"goodbye\", text)\n",
        "    print(f\"The replaced text: \\\"{replaced_text}\\\".\")"
      ]
    },
    {
      "cell_type": "code",
      "execution_count": 18,
      "metadata": {
        "colab": {
          "base_uri": "https://localhost:8080/"
        },
        "id": "8AxFFmFfZhJG",
        "outputId": "7c7775d8-1763-46ab-8a96-a252603101c0"
      },
      "outputs": [
        {
          "output_type": "stream",
          "name": "stdout",
          "text": [
            "The ISO8601 date strings in \"Log from 2023-01-15\" are: 2023-01-15.\n",
            "The ISO8601 date strings in \"Meeting on 2023-02-01T13:00:00Z\" are: 2023-02-01T13:00:00Z.\n",
            "No ISO8601 date strings found in \"No dates\".\n"
          ]
        }
      ],
      "source": [
        "#9 Question: Extract date strings in ISO8601 format\n",
        "\n",
        "inputs = [\"Log from 2023-01-15\", \"Meeting on 2023-02-01T13:00:00Z\", \"No dates\"]\n",
        "\n",
        "for text in inputs:\n",
        "    matches = re.findall(r\"\\b\\d{4}-\\d{2}-\\d{2}(?:T\\d{2}:\\d{2}:\\d{2}Z)?\\b\", text)\n",
        "    if matches:\n",
        "        print(f\"The ISO8601 date strings in \\\"{text}\\\" are: {', '.join(matches)}.\")\n",
        "    else:\n",
        "        print(f\"No ISO8601 date strings found in \\\"{text}\\\".\")\n"
      ]
    },
    {
      "cell_type": "code",
      "execution_count": 19,
      "metadata": {
        "colab": {
          "base_uri": "https://localhost:8080/"
        },
        "id": "ZQIOxRhpZhJH",
        "outputId": "13115699-e108-4d75-aa88-e04a85f114aa"
      },
      "outputs": [
        {
          "output_type": "stream",
          "name": "stdout",
          "text": [
            "The date \"2023-01-15\" is correctly formatted.\n",
            "The date \"02/01/2023\" is not correctly formatted.\n",
            "The date \"invalid date\" is not correctly formatted.\n"
          ]
        }
      ],
      "source": [
        "#10 Question: Validate correctly formatted date\n",
        "from datetime import datetime\n",
        "\n",
        "def validate_date(date_string):\n",
        "    try:\n",
        "        datetime.strptime(date_string, \"%Y-%m-%d\")\n",
        "        return True\n",
        "    except ValueError:\n",
        "        return False\n",
        "\n",
        "inputs = [\"2023-01-15\", \"02/01/2023\", \"invalid date\"]\n",
        "\n",
        "for date in inputs:\n",
        "    if validate_date(date):\n",
        "        print(f\"The date \\\"{date}\\\" is correctly formatted.\")\n",
        "    else:\n",
        "        print(f\"The date \\\"{date}\\\" is not correctly formatted.\")"
      ]
    },
    {
      "cell_type": "code",
      "execution_count": 24,
      "metadata": {
        "colab": {
          "base_uri": "https://localhost:8080/"
        },
        "id": "H3zgnDtgZhJI",
        "outputId": "647f4e7e-cdbb-4709-d941-f5bf4bf514aa"
      },
      "outputs": [
        {
          "output_type": "stream",
          "name": "stdout",
          "text": [
            "The cleaned text: \"Hello World\".\n",
            "The cleaned text: \"123-Main_St\".\n",
            "The cleaned text: \"Hi there\".\n"
          ]
        }
      ],
      "source": [
        "#11 Question: Remove punctuation except hyphens\n",
        "\n",
        "inputs = [\"Hello! World?\", \"123-Main_St.\", \"Hi there.\"]\n",
        "\n",
        "for text in inputs:\n",
        "    cleaned_text = re.sub(r\"[^\\w\\s-]\", \"\", text)\n",
        "    print(f\"The cleaned text: \\\"{cleaned_text}\\\".\")"
      ]
    },
    {
      "cell_type": "code",
      "execution_count": 21,
      "metadata": {
        "colab": {
          "base_uri": "https://localhost:8080/"
        },
        "id": "jKcX_A4vZhJI",
        "outputId": "a6b1c786-8fa7-411c-881b-12765af0cc10"
      },
      "outputs": [
        {
          "output_type": "stream",
          "name": "stdout",
          "text": [
            "The word \"Hello\" occurs 2 times in \"Hello world. Hello!\".\n",
            "The word \"Hello\" occurs 2 times in \"Hello hello world\".\n",
            "The word \"Hello\" occurs 0 times in \"no match\".\n"
          ]
        }
      ],
      "source": [
        "#12 Question: Count occurrences of a word\n",
        "\n",
        "inputs = [\"Hello world. Hello!\", \"Hello hello world\", \"no match\"]\n",
        "\n",
        "word_to_count = \"Hello\"\n",
        "\n",
        "for text in inputs:\n",
        "    occurrences = re.findall(r\"\\b\" + re.escape(word_to_count) + r\"\\b\",\n",
        "                             text, re.IGNORECASE)\n",
        "    count = len(occurrences)\n",
        "    print(f\"The word \\\"{word_to_count}\\\" occurs {count} times in \\\"{text}\\\".\")"
      ]
    },
    {
      "cell_type": "code",
      "execution_count": 22,
      "metadata": {
        "colab": {
          "base_uri": "https://localhost:8080/"
        },
        "id": "dn4U-MMFZhJJ",
        "outputId": "347ae408-b2b4-49f8-f9e2-b5543c06116c"
      },
      "outputs": [
        {
          "output_type": "stream",
          "name": "stdout",
          "text": [
            "IP addresses in \"127.0.0.1 - GET /\" are: 127.0.0.1.\n",
            "IP addresses in \"User logged in from 192.168.1.1\" are: 192.168.1.1.\n",
            "No IP addresses found in \"No IPs\".\n"
          ]
        }
      ],
      "source": [
        "#13 Question: Extract IP addresses from log\n",
        "\n",
        "inputs = [\"127.0.0.1 - GET /\", \"User logged in from 192.168.1.1\",\"No IPs\"]\n",
        "\n",
        "for text in inputs:\n",
        "    ip_addresses = re.findall(r\"\\b(?:\\d{1,3}\\.){3}\\d{1,3}\\b\", text)\n",
        "    if ip_addresses:\n",
        "        print(f\"IP addresses in \\\"{text}\\\" are: {', '.join(ip_addresses)}.\")\n",
        "    else:\n",
        "        print(f\"No IP addresses found in \\\"{text}\\\".\")"
      ]
    },
    {
      "cell_type": "code",
      "execution_count": 23,
      "metadata": {
        "colab": {
          "base_uri": "https://localhost:8080/"
        },
        "id": "ung4-nA_ZhJK",
        "outputId": "a263cc22-3f7f-4d9e-9bf7-3103b745fa51"
      },
      "outputs": [
        {
          "output_type": "stream",
          "name": "stdout",
          "text": [
            "Original text: Visa: 4111-1111-1111-1111\n",
            "Redacted text: Visa: [REDACTED]\n",
            "\n",
            "Original text: My SSN is 111-11-1111\n",
            "Redacted text: My SSN is [REDACTED]\n",
            "\n",
            "Original text: No numbers\n",
            "Redacted text: No numbers\n",
            "\n"
          ]
        }
      ],
      "source": [
        "#14 Question: Redact credit card and SSN numbers\n",
        "\n",
        "inputs = [\"Visa: 4111-1111-1111-1111\", \"My SSN is 111-11-1111\", \"No numbers\"]\n",
        "\n",
        "redacted_inputs = []\n",
        "\n",
        "for text in inputs:\n",
        "    redacted_text = re.sub(r\"\\b(?:\\d{4}-){3}\\d{4}\\b|\\b\\d{3}-\\d{2}-\\d{4}\\b\", \"[REDACTED]\", text)\n",
        "    redacted_inputs.append(redacted_text)\n",
        "\n",
        "for i in range(len(inputs)):\n",
        "    print(f\"Original text: {inputs[i]}\")\n",
        "    print(f\"Redacted text: {redacted_inputs[i]}\")\n",
        "    print()"
      ]
    }
  ],
  "metadata": {
    "kernelspec": {
      "display_name": "ds",
      "language": "python",
      "name": "python3"
    },
    "language_info": {
      "codemirror_mode": {
        "name": "ipython",
        "version": 3
      },
      "file_extension": ".py",
      "mimetype": "text/x-python",
      "name": "python",
      "nbconvert_exporter": "python",
      "pygments_lexer": "ipython3",
      "version": "3.9.18"
    },
    "colab": {
      "provenance": []
    }
  },
  "nbformat": 4,
  "nbformat_minor": 0
}